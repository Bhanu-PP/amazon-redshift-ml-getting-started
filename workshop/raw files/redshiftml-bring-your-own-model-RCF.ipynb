{
 "cells": [
  {
   "cell_type": "markdown",
   "metadata": {},
   "source": [
    "# Step 3 of the Workshop \n",
    "\n",
    "\n",
    "## Contents\n",
    "1. [Introduction](#Introduction)\n",
    "1. [Step 3 - ML With SageMaker](#Step-3---ML-With-SageMaker)\n",
    "    1. [Setup](#Setup-and-How-to-Instructions)\n",
    "    1. [Redshift Data API](#Redshit-Data-API)\n",
    "    1. [Data Exploration](#Data-Exploration)\n",
    "    1. [Amazon SageMaker Model Training](#Amazon-SageMaker-Model-Training)\n",
    "        1. [Create Model](#Create-Model)\n",
    "        1. [Create Amazon SageMaker Endpoint](#Create-Amazon-SageMaker-Endpoint)\n",
    "1. [Bring Remote Model to Redshift](#Bring-Remote-Model-to-Redshift)\n",
    "    1. [Create BYOM](#Create-BYOM)\n",
    "    \n",
    "\n",
    "\n",
    "---"
   ]
  },
  {
   "cell_type": "markdown",
   "metadata": {},
   "source": [
    "# Introduction\n",
    "\n",
    "Using Amazon Sagemaker Studio we are going to complete Step 3.  Step 3 is about training and creating a Random Cut Forest Machine Model using Amazon Sagemaker.\n",
    "***"
   ]
  },
  {
   "cell_type": "markdown",
   "metadata": {},
   "source": [
    "# Step 3 - ML With SageMaker\n",
    "\n",
    "Amazon SageMaker Random Cut Forest (RCF) is an algorithm designed to detect anomalous data points within a dataset. More details about the data set can be found here [Campaign Data set](https://archive.ics.uci.edu/ml/datasets/bank+marketing)"
   ]
  },
  {
   "cell_type": "markdown",
   "metadata": {},
   "source": [
    "# Setup and How to Instructions\n",
    "\n",
    "This notebook uses below parameters which are set by running below code.   \n",
    "\n",
    "1. REDSHIFT_IAM_ROLE: The IAM role arn attached to Redshift Cluster.\n",
    "2. REDSHIFT_USER: Database users to run SQL commands\n",
    "3. REDSHIFT_ENDPOINT: Redshift Cluster end point.\n",
    "4. SAGEMAKER_S3_BUCKET: S3 Bucket to store training input/output\n",
    "\n",
    "## How to Run the commands:\n",
    "Select your cell and hit **Shift+Enter** or Click on Run button from menu options.</br>\n",
    "Cell is finished running when * turns into a Number.\n"
   ]
  },
  {
   "cell_type": "markdown",
   "metadata": {},
   "source": [
    "### Import Libraries and setup buckets"
   ]
  },
  {
   "cell_type": "code",
   "execution_count": 1,
   "metadata": {},
   "outputs": [
    {
     "name": "stdout",
     "output_type": "stream",
     "text": [
      "1- {'Name': 'mod-4d97d0e707c84ed8-redshifts3bucket-1l7ieun44asq', 'CreationDate': datetime.datetime(2021, 10, 22, 3, 31, 32, tzinfo=tzlocal())}\n",
      "2- mod-4d97d0e707c84ed8-redshifts3bucket-1l7ieun44asq\n"
     ]
    }
   ],
   "source": [
    "import boto3\n",
    "import time\n",
    "import pandas as pd\n",
    "import numpy as np\n",
    "import matplotlib.pyplot as plt\n",
    "import json\n",
    "import botocore\n",
    "import sagemaker\n",
    "import sys\n",
    "\n",
    "\n",
    "session = boto3.session.Session()\n",
    "region = session.region_name\n",
    "\n",
    "def get_workshop_parameters():\n",
    "    s3 = boto3.client('s3')\n",
    "    response = s3.list_buckets()\n",
    "    for bucket in response['Buckets']:\n",
    "        print('1-',bucket)\n",
    "        if 'mod' in bucket[\"Name\"]:\n",
    "            s3_bucket= bucket[\"Name\"]\n",
    "            print('2-',s3_bucket)\n",
    "            break\n",
    "    obj = s3.get_object(Bucket=s3_bucket, Key='workshop/sagemaker_config.json')\n",
    "    config = json.loads(obj['Body'].read().decode('utf-8'))\n",
    "    return config\n",
    "\n",
    "config = get_workshop_parameters()\n",
    "\n",
    "REDSHIFT_IAM_ROLE=config.get('REDSHIFT_IAM_ROLE')\n",
    "REDSHIFT_USER=config.get('REDSHIFT_USER')\n",
    "REDSHIFT_ENDPOINT = config.get('REDSHIFT_ENDPOINT')\n",
    "SAGEMAKER_S3_BUCKET=config.get('SAGEMAKER_S3_BUCKET')\n",
    "SAGEMAKER_ENDPOINT=config.get('SAGEMAKER_ENDPOINT')\n",
    "\n",
    "bucket = SAGEMAKER_S3_BUCKET\n",
    "prefix = \"sagemaker/rcf-marketing-campaign\"\n",
    "execution_role = sagemaker.get_execution_role()\n",
    "region = boto3.Session().region_name"
   ]
  },
  {
   "cell_type": "markdown",
   "metadata": {},
   "source": [
    "## Redshift Data API"
   ]
  },
  {
   "cell_type": "markdown",
   "metadata": {},
   "source": [
    "In this step, we are creating function run_sql, which we will use to get SQL query output directly into pandas dataframe. We will also use this function to run DDL statements"
   ]
  },
  {
   "cell_type": "code",
   "execution_count": 2,
   "metadata": {},
   "outputs": [],
   "source": [
    "def run_sql(sql_text):\n",
    "    client = boto3.client(\"redshift-data\")\n",
    "    res = client.execute_statement(Database=REDSHIFT_ENDPOINT.split('/')[1], DbUser=REDSHIFT_USER, Sql=sql_text,\n",
    "                                   ClusterIdentifier=REDSHIFT_ENDPOINT.split('.')[0])\n",
    "    query_id = res[\"Id\"]\n",
    "    done = False\n",
    "    while not done:\n",
    "        time.sleep(1)\n",
    "        status_description = client.describe_statement(Id=query_id)\n",
    "        status = status_description[\"Status\"]\n",
    "        if status == \"FAILED\":\n",
    "            raise Exception('SQL query failed:' + query_id + \": \" + status_description[\"Error\"])\n",
    "        elif status == \"FINISHED\":\n",
    "            if status_description['ResultRows']>0:\n",
    "                results = client.get_statement_result(Id=query_id)\n",
    "                metadata=dict()\n",
    "                column_labels = []\n",
    "                #dtypes = []\n",
    "                for i in range(len(results[\"ColumnMetadata\"])): column_labels.append(results[\"ColumnMetadata\"][i]['label'])\n",
    "                for i in range(len(results[\"ColumnMetadata\"])): \n",
    "                    if (results[\"ColumnMetadata\"][i]['typeName'])=='varchar':\n",
    "                        typ='str'\n",
    "                    elif ((results[\"ColumnMetadata\"][i]['typeName'])=='int4' or (results[\"ColumnMetadata\"][i]['typeName'])=='numeric') :\n",
    "                        typ='float'\n",
    "                    else:\n",
    "                        typ = 'str'\n",
    "                    metadata[results[\"ColumnMetadata\"][i]['label']]=typ            \n",
    "                    #dtypes.append(typ)\n",
    "                 \n",
    "                \n",
    "                records = []\n",
    "                \n",
    "                for record in results.get('Records'):\n",
    "                    records.append([list(rec.values())[0] for rec in record])\n",
    "                df = pd.DataFrame(np.array(records), columns=column_labels)\n",
    "                df = df.astype(metadata)\n",
    "                return df\n",
    "            else:\n",
    "                return query_id\n"
   ]
  },
  {
   "cell_type": "markdown",
   "metadata": {},
   "source": [
    "## Data Exploration\n",
    "\n",
    "Data set is alerady loaded on Amazon Data warehouse.  Kim loads the campaign data-set into a Data frame using a call to Redshift Data API and explore it.\n"
   ]
  },
  {
   "cell_type": "code",
   "execution_count": 3,
   "metadata": {},
   "outputs": [
    {
     "data": {
      "text/html": [
       "<div>\n",
       "<style scoped>\n",
       "    .dataframe tbody tr th:only-of-type {\n",
       "        vertical-align: middle;\n",
       "    }\n",
       "\n",
       "    .dataframe tbody tr th {\n",
       "        vertical-align: top;\n",
       "    }\n",
       "\n",
       "    .dataframe thead th {\n",
       "        text-align: right;\n",
       "    }\n",
       "</style>\n",
       "<table border=\"1\" class=\"dataframe\">\n",
       "  <thead>\n",
       "    <tr style=\"text-align: right;\">\n",
       "      <th></th>\n",
       "      <th>customerid</th>\n",
       "      <th>serialnumber</th>\n",
       "      <th>age</th>\n",
       "      <th>job</th>\n",
       "      <th>marital</th>\n",
       "      <th>education</th>\n",
       "      <th>is_default</th>\n",
       "      <th>balance</th>\n",
       "      <th>housing</th>\n",
       "      <th>loan</th>\n",
       "      <th>contact</th>\n",
       "      <th>day</th>\n",
       "      <th>month</th>\n",
       "      <th>duration</th>\n",
       "      <th>campaign</th>\n",
       "      <th>days_since_last_contact</th>\n",
       "      <th>previous</th>\n",
       "      <th>poutcome</th>\n",
       "      <th>accepted</th>\n",
       "    </tr>\n",
       "  </thead>\n",
       "  <tbody>\n",
       "    <tr>\n",
       "      <th>0</th>\n",
       "      <td>0178-SZBHO</td>\n",
       "      <td>102.0</td>\n",
       "      <td>40.0</td>\n",
       "      <td>entrepreneur</td>\n",
       "      <td>married</td>\n",
       "      <td>tertiary</td>\n",
       "      <td>no</td>\n",
       "      <td>3571.0</td>\n",
       "      <td>no</td>\n",
       "      <td>no</td>\n",
       "      <td>unknown</td>\n",
       "      <td>9.0</td>\n",
       "      <td>jun</td>\n",
       "      <td>222.0</td>\n",
       "      <td>3.0</td>\n",
       "      <td>-1.0</td>\n",
       "      <td>0.0</td>\n",
       "      <td>unknown</td>\n",
       "      <td>no</td>\n",
       "    </tr>\n",
       "    <tr>\n",
       "      <th>1</th>\n",
       "      <td>0181-RITDD</td>\n",
       "      <td>103.0</td>\n",
       "      <td>48.0</td>\n",
       "      <td>technician</td>\n",
       "      <td>divorced</td>\n",
       "      <td>secondary</td>\n",
       "      <td>yes</td>\n",
       "      <td>20.0</td>\n",
       "      <td>no</td>\n",
       "      <td>no</td>\n",
       "      <td>cellular</td>\n",
       "      <td>27.0</td>\n",
       "      <td>aug</td>\n",
       "      <td>145.0</td>\n",
       "      <td>3.0</td>\n",
       "      <td>-1.0</td>\n",
       "      <td>0.0</td>\n",
       "      <td>unknown</td>\n",
       "      <td>no</td>\n",
       "    </tr>\n",
       "    <tr>\n",
       "      <th>2</th>\n",
       "      <td>0186-CAERR</td>\n",
       "      <td>104.0</td>\n",
       "      <td>51.0</td>\n",
       "      <td>unemployed</td>\n",
       "      <td>married</td>\n",
       "      <td>tertiary</td>\n",
       "      <td>no</td>\n",
       "      <td>1634.0</td>\n",
       "      <td>yes</td>\n",
       "      <td>no</td>\n",
       "      <td>cellular</td>\n",
       "      <td>22.0</td>\n",
       "      <td>jul</td>\n",
       "      <td>168.0</td>\n",
       "      <td>4.0</td>\n",
       "      <td>-1.0</td>\n",
       "      <td>0.0</td>\n",
       "      <td>unknown</td>\n",
       "      <td>no</td>\n",
       "    </tr>\n",
       "    <tr>\n",
       "      <th>3</th>\n",
       "      <td>0187-QSXOE</td>\n",
       "      <td>105.0</td>\n",
       "      <td>27.0</td>\n",
       "      <td>admin.</td>\n",
       "      <td>married</td>\n",
       "      <td>secondary</td>\n",
       "      <td>no</td>\n",
       "      <td>-247.0</td>\n",
       "      <td>yes</td>\n",
       "      <td>yes</td>\n",
       "      <td>unknown</td>\n",
       "      <td>4.0</td>\n",
       "      <td>jun</td>\n",
       "      <td>344.0</td>\n",
       "      <td>2.0</td>\n",
       "      <td>-1.0</td>\n",
       "      <td>0.0</td>\n",
       "      <td>unknown</td>\n",
       "      <td>no</td>\n",
       "    </tr>\n",
       "    <tr>\n",
       "      <th>4</th>\n",
       "      <td>0187-WZNAB</td>\n",
       "      <td>106.0</td>\n",
       "      <td>32.0</td>\n",
       "      <td>unemployed</td>\n",
       "      <td>single</td>\n",
       "      <td>secondary</td>\n",
       "      <td>no</td>\n",
       "      <td>0.0</td>\n",
       "      <td>no</td>\n",
       "      <td>no</td>\n",
       "      <td>cellular</td>\n",
       "      <td>27.0</td>\n",
       "      <td>may</td>\n",
       "      <td>123.0</td>\n",
       "      <td>2.0</td>\n",
       "      <td>-1.0</td>\n",
       "      <td>0.0</td>\n",
       "      <td>unknown</td>\n",
       "      <td>no</td>\n",
       "    </tr>\n",
       "  </tbody>\n",
       "</table>\n",
       "</div>"
      ],
      "text/plain": [
       "   customerid  serialnumber   age           job   marital  education  \\\n",
       "0  0178-SZBHO         102.0  40.0  entrepreneur   married   tertiary   \n",
       "1  0181-RITDD         103.0  48.0    technician  divorced  secondary   \n",
       "2  0186-CAERR         104.0  51.0    unemployed   married   tertiary   \n",
       "3  0187-QSXOE         105.0  27.0        admin.   married  secondary   \n",
       "4  0187-WZNAB         106.0  32.0    unemployed    single  secondary   \n",
       "\n",
       "  is_default  balance housing loan   contact   day month  duration  campaign  \\\n",
       "0         no   3571.0      no   no   unknown   9.0   jun     222.0       3.0   \n",
       "1        yes     20.0      no   no  cellular  27.0   aug     145.0       3.0   \n",
       "2         no   1634.0     yes   no  cellular  22.0   jul     168.0       4.0   \n",
       "3         no   -247.0     yes  yes   unknown   4.0   jun     344.0       2.0   \n",
       "4         no      0.0      no   no  cellular  27.0   may     123.0       2.0   \n",
       "\n",
       "   days_since_last_contact  previous poutcome accepted  \n",
       "0                     -1.0       0.0  unknown       no  \n",
       "1                     -1.0       0.0  unknown       no  \n",
       "2                     -1.0       0.0  unknown       no  \n",
       "3                     -1.0       0.0  unknown       no  \n",
       "4                     -1.0       0.0  unknown       no  "
      ]
     },
     "execution_count": 3,
     "metadata": {},
     "output_type": "execute_result"
    }
   ],
   "source": [
    "marketing_data = run_sql('Select * from marketing_campaign_raw_data ;')\n",
    "marketing_data.head(5)"
   ]
  },
  {
   "cell_type": "markdown",
   "metadata": {},
   "source": [
    "#### Investigate the data.  \n",
    "Look for patterns or issues in underlying data. Balance attribute shows significant spike."
   ]
  },
  {
   "cell_type": "code",
   "execution_count": 4,
   "metadata": {},
   "outputs": [
    {
     "data": {
      "text/plain": [
       "<AxesSubplot:>"
      ]
     },
     "execution_count": 4,
     "metadata": {},
     "output_type": "execute_result"
    },
    {
     "data": {
      "image/png": "[encoded data removed]",
      "text/plain": [
       "<Figure size 600x400 with 1 Axes>"
      ]
     },
     "metadata": {
      "needs_background": "light"
     },
     "output_type": "display_data"
    }
   ],
   "source": [
    "%matplotlib inline\n",
    "\n",
    "import matplotlib\n",
    "import matplotlib.pyplot as plt\n",
    "\n",
    "matplotlib.rcParams[\"figure.dpi\"] = 100\n",
    "\n",
    "marketing_data.plot()"
   ]
  },
  {
   "cell_type": "markdown",
   "metadata": {},
   "source": [
    "### Preparing the data for Machine Learning "
   ]
  },
  {
   "cell_type": "markdown",
   "metadata": {},
   "source": [
    "For machine learning model we need to one hot encode the values, marketing_campaing data set is already hot encoded using Redshift SQL and is in view marketing_campaign_encoded_data.  Kim loads this data into a data frame to train the Random Cut Forest Model.\n"
   ]
  },
  {
   "cell_type": "code",
   "execution_count": 5,
   "metadata": {},
   "outputs": [
    {
     "data": {
      "text/html": [
       "<div>\n",
       "<style scoped>\n",
       "    .dataframe tbody tr th:only-of-type {\n",
       "        vertical-align: middle;\n",
       "    }\n",
       "\n",
       "    .dataframe tbody tr th {\n",
       "        vertical-align: top;\n",
       "    }\n",
       "\n",
       "    .dataframe thead th {\n",
       "        text-align: right;\n",
       "    }\n",
       "</style>\n",
       "<table border=\"1\" class=\"dataframe\">\n",
       "  <thead>\n",
       "    <tr style=\"text-align: right;\">\n",
       "      <th></th>\n",
       "      <th>age</th>\n",
       "      <th>balance</th>\n",
       "      <th>day</th>\n",
       "      <th>duration</th>\n",
       "      <th>campaign</th>\n",
       "      <th>days_since_last_contact</th>\n",
       "      <th>previous</th>\n",
       "      <th>job_blue_collor</th>\n",
       "      <th>job_entrepreneur</th>\n",
       "      <th>job_housemaid</th>\n",
       "      <th>...</th>\n",
       "      <th>marital_married</th>\n",
       "      <th>marital_single</th>\n",
       "      <th>education_secondary</th>\n",
       "      <th>education_tertiary</th>\n",
       "      <th>education_unknown</th>\n",
       "      <th>default_yes</th>\n",
       "      <th>housing_yes</th>\n",
       "      <th>loan_yes</th>\n",
       "      <th>contact_telephone</th>\n",
       "      <th>contact_unknown</th>\n",
       "    </tr>\n",
       "  </thead>\n",
       "  <tbody>\n",
       "    <tr>\n",
       "      <th>0</th>\n",
       "      <td>40.0</td>\n",
       "      <td>3571.0</td>\n",
       "      <td>9.0</td>\n",
       "      <td>222.0</td>\n",
       "      <td>3.0</td>\n",
       "      <td>-1.0</td>\n",
       "      <td>0.0</td>\n",
       "      <td>0.0</td>\n",
       "      <td>1.0</td>\n",
       "      <td>0.0</td>\n",
       "      <td>...</td>\n",
       "      <td>1.0</td>\n",
       "      <td>0.0</td>\n",
       "      <td>0.0</td>\n",
       "      <td>1.0</td>\n",
       "      <td>0.0</td>\n",
       "      <td>0.0</td>\n",
       "      <td>0.0</td>\n",
       "      <td>0.0</td>\n",
       "      <td>0.0</td>\n",
       "      <td>1.0</td>\n",
       "    </tr>\n",
       "    <tr>\n",
       "      <th>1</th>\n",
       "      <td>48.0</td>\n",
       "      <td>20.0</td>\n",
       "      <td>27.0</td>\n",
       "      <td>145.0</td>\n",
       "      <td>3.0</td>\n",
       "      <td>-1.0</td>\n",
       "      <td>0.0</td>\n",
       "      <td>0.0</td>\n",
       "      <td>0.0</td>\n",
       "      <td>0.0</td>\n",
       "      <td>...</td>\n",
       "      <td>0.0</td>\n",
       "      <td>0.0</td>\n",
       "      <td>1.0</td>\n",
       "      <td>0.0</td>\n",
       "      <td>0.0</td>\n",
       "      <td>1.0</td>\n",
       "      <td>0.0</td>\n",
       "      <td>0.0</td>\n",
       "      <td>0.0</td>\n",
       "      <td>0.0</td>\n",
       "    </tr>\n",
       "    <tr>\n",
       "      <th>2</th>\n",
       "      <td>51.0</td>\n",
       "      <td>1634.0</td>\n",
       "      <td>22.0</td>\n",
       "      <td>168.0</td>\n",
       "      <td>4.0</td>\n",
       "      <td>-1.0</td>\n",
       "      <td>0.0</td>\n",
       "      <td>0.0</td>\n",
       "      <td>0.0</td>\n",
       "      <td>0.0</td>\n",
       "      <td>...</td>\n",
       "      <td>1.0</td>\n",
       "      <td>0.0</td>\n",
       "      <td>0.0</td>\n",
       "      <td>1.0</td>\n",
       "      <td>0.0</td>\n",
       "      <td>0.0</td>\n",
       "      <td>1.0</td>\n",
       "      <td>0.0</td>\n",
       "      <td>0.0</td>\n",
       "      <td>0.0</td>\n",
       "    </tr>\n",
       "    <tr>\n",
       "      <th>3</th>\n",
       "      <td>27.0</td>\n",
       "      <td>-247.0</td>\n",
       "      <td>4.0</td>\n",
       "      <td>344.0</td>\n",
       "      <td>2.0</td>\n",
       "      <td>-1.0</td>\n",
       "      <td>0.0</td>\n",
       "      <td>0.0</td>\n",
       "      <td>0.0</td>\n",
       "      <td>0.0</td>\n",
       "      <td>...</td>\n",
       "      <td>1.0</td>\n",
       "      <td>0.0</td>\n",
       "      <td>1.0</td>\n",
       "      <td>0.0</td>\n",
       "      <td>0.0</td>\n",
       "      <td>0.0</td>\n",
       "      <td>1.0</td>\n",
       "      <td>1.0</td>\n",
       "      <td>0.0</td>\n",
       "      <td>1.0</td>\n",
       "    </tr>\n",
       "    <tr>\n",
       "      <th>4</th>\n",
       "      <td>32.0</td>\n",
       "      <td>0.0</td>\n",
       "      <td>27.0</td>\n",
       "      <td>123.0</td>\n",
       "      <td>2.0</td>\n",
       "      <td>-1.0</td>\n",
       "      <td>0.0</td>\n",
       "      <td>0.0</td>\n",
       "      <td>0.0</td>\n",
       "      <td>0.0</td>\n",
       "      <td>...</td>\n",
       "      <td>0.0</td>\n",
       "      <td>1.0</td>\n",
       "      <td>1.0</td>\n",
       "      <td>0.0</td>\n",
       "      <td>0.0</td>\n",
       "      <td>0.0</td>\n",
       "      <td>0.0</td>\n",
       "      <td>0.0</td>\n",
       "      <td>0.0</td>\n",
       "      <td>0.0</td>\n",
       "    </tr>\n",
       "  </tbody>\n",
       "</table>\n",
       "<p>5 rows × 39 columns</p>\n",
       "</div>"
      ],
      "text/plain": [
       "    age  balance   day  duration  campaign  days_since_last_contact  previous  \\\n",
       "0  40.0   3571.0   9.0     222.0       3.0                     -1.0       0.0   \n",
       "1  48.0     20.0  27.0     145.0       3.0                     -1.0       0.0   \n",
       "2  51.0   1634.0  22.0     168.0       4.0                     -1.0       0.0   \n",
       "3  27.0   -247.0   4.0     344.0       2.0                     -1.0       0.0   \n",
       "4  32.0      0.0  27.0     123.0       2.0                     -1.0       0.0   \n",
       "\n",
       "   job_blue_collor  job_entrepreneur  job_housemaid  ...  marital_married  \\\n",
       "0              0.0               1.0            0.0  ...              1.0   \n",
       "1              0.0               0.0            0.0  ...              0.0   \n",
       "2              0.0               0.0            0.0  ...              1.0   \n",
       "3              0.0               0.0            0.0  ...              1.0   \n",
       "4              0.0               0.0            0.0  ...              0.0   \n",
       "\n",
       "   marital_single  education_secondary  education_tertiary  education_unknown  \\\n",
       "0             0.0                  0.0                 1.0                0.0   \n",
       "1             0.0                  1.0                 0.0                0.0   \n",
       "2             0.0                  0.0                 1.0                0.0   \n",
       "3             0.0                  1.0                 0.0                0.0   \n",
       "4             1.0                  1.0                 0.0                0.0   \n",
       "\n",
       "   default_yes  housing_yes  loan_yes  contact_telephone  contact_unknown  \n",
       "0          0.0          0.0       0.0                0.0              1.0  \n",
       "1          1.0          0.0       0.0                0.0              0.0  \n",
       "2          0.0          1.0       0.0                0.0              0.0  \n",
       "3          0.0          1.0       1.0                0.0              1.0  \n",
       "4          0.0          0.0       0.0                0.0              0.0  \n",
       "\n",
       "[5 rows x 39 columns]"
      ]
     },
     "execution_count": 5,
     "metadata": {},
     "output_type": "execute_result"
    }
   ],
   "source": [
    "marketing_encoded_data = run_sql(\"\"\"\n",
    "select\n",
    "    age, \n",
    "    balance, \n",
    "    day,\n",
    "    duration,\n",
    "    campaign,\n",
    "    days_since_last_contact,\n",
    "    previous,\n",
    "    case when job ='blue-collar' then 1 else 0 end as job_blue_collor,\n",
    "    case when job ='entrepreneur' then 1 else 0 end as job_entrepreneur,\n",
    "    case when job ='housemaid' then 1 else 0 end as job_housemaid,\n",
    "    case when job ='management' then 1 else 0 end as job_management,\n",
    "    case when job ='retired' then 1 else 0  end as job_retired,\n",
    "    case when job ='self-employed' then 1 else 0  end as job_self_employed,\n",
    "    case when job ='student'then 1 else 0  end as job_student,\n",
    "    case when job ='technician' then 1 else 0  end as job_technician,\n",
    "     case when job ='unemployed' then 1 else 0 end as job_unemployed,\n",
    "    case when job ='unknown' then 1 else 0 end as job_unknown,\n",
    "    case when job ='services' then 1 else 0  end as job_services,\n",
    "    case when month='jan' Then 1 else 0 end as month_jan,\n",
    "    case when month='feb' Then 1 else 0 end as month_feb,\n",
    "    case when month='mar' Then 1 else 0 end as month_mar,\n",
    "    case when month='may' Then 1 else 0 end as month_may,\n",
    "    case when month='jun' Then 1 else 0 end as month_jun,\n",
    "    case when month='jul' Then 1 else 0 end as month_jul,\n",
    "    case when month='aug' Then 1 else 0 end as month_aug,\n",
    "    case when month='sep' Then 1 else 0 end as month_sep,\n",
    "    case when month='oct' Then 1 else 0 end as month_oct,\n",
    "    case when month='nov' Then 1 else 0 end as month_nov,\n",
    "    case when month='dec' Then 1 else 0 end as month_dec,\n",
    "    case when marital='married' Then 1 else 0 end as marital_married,\n",
    "    case when marital='single' Then 1 else 0 end as marital_single,\n",
    "    case when education='secondary' Then 1 else 0 end as education_secondary,\n",
    "    case when education='tertiary' Then 1 else 0 end as education_tertiary,\n",
    "    case when education='unknown' Then 1 else 0 end as education_unknown,\n",
    "    case when is_default='yes' Then 1 else 0 end as default_yes,\n",
    "    case when housing='yes' Then 1 else 0 end as housing_yes,\n",
    "    case when loan='yes' Then 1 else 0 end as loan_yes,\n",
    "    case when contact='telephone' Then 1 else 0 end as contact_telephone,\n",
    "    case when contact='unknown' Then 1 else 0 end as contact_unknown\n",
    "from marketing_campaign_raw_data;\n",
    "\"\"\"\n",
    ")\n",
    "marketing_encoded_data.head(5)"
   ]
  },
  {
   "cell_type": "markdown",
   "metadata": {},
   "source": [
    "# Amazon SageMaker Model Training\n",
    "## Note:\n",
    "- Create Model and Create Amazon SageMaker Endpoint creation takes about **10 to 15 minutes**.  To save your time we already precreated the model and endpoint. You can initiate below Create Model command and then move a head to [Step-4: Bring Remote Model to Redshift](#Step-4:-Bring-Remote-Model-to-Redshift).  When you have a momment you can come back and check the status of Create Model and continue with rest of steps provided here.\n",
    "***"
   ]
  },
  {
   "cell_type": "markdown",
   "metadata": {},
   "source": [
    "## Create Model and Amazon SageMaker Endpoint\n",
    "\n",
    "Next, we configure a SageMaker training job to train the Random Cut Forest (RCF) algorithm onto the Marketing Campaign Data. After that, we will create an inference endpoint using the SageMaker Python SDK `deploy()` function from that job. \n",
    "\n",
    "We specify the instance type where inference is computed as well as an initial number of instances to spin up. We used a single node of `ml.m4.xlarge` instance type for that.\n"
   ]
  },
  {
   "cell_type": "code",
   "execution_count": 6,
   "metadata": {},
   "outputs": [
    {
     "name": "stderr",
     "output_type": "stream",
     "text": [
      "Defaulting to the only supported framework/algorithm version: 1. Ignoring framework/algorithm version: 1.\n",
      "Defaulting to the only supported framework/algorithm version: 1. Ignoring framework/algorithm version: 1.\n"
     ]
    },
    {
     "name": "stdout",
     "output_type": "stream",
     "text": [
      "2021-10-22 19:58:48 Starting - Starting the training job...\n",
      "2021-10-22 19:59:11 Starting - Launching requested ML instancesProfilerReport-1634932728: InProgress\n",
      ".........\n",
      "2021-10-22 20:00:40 Starting - Preparing the instances for training............\n",
      "2021-10-22 20:02:32 Downloading - Downloading input data...\n",
      "2021-10-22 20:03:12 Training - Downloading the training image...\n",
      "2021-10-22 20:03:46 Uploading - Uploading generated training model\n",
      "2021-10-22 20:03:46 Completed - Training job completed\n",
      ".."
     ]
    },
    {
     "name": "stderr",
     "output_type": "stream",
     "text": [
      "Defaulting to the only supported framework/algorithm version: 1. Ignoring framework/algorithm version: 1.\n"
     ]
    },
    {
     "name": "stdout",
     "output_type": "stream",
     "text": [
      "Training seconds: 86\n",
      "Billable seconds: 86\n",
      "-------!"
     ]
    },
    {
     "name": "stderr",
     "output_type": "stream",
     "text": [
      "The endpoint attribute has been renamed in sagemaker>=2.\n",
      "See: https://sagemaker.readthedocs.io/en/stable/v2.html for details.\n"
     ]
    },
    {
     "name": "stdout",
     "output_type": "stream",
     "text": [
      "Endpoint name: randomcutforest-2021-10-22-20-04-00-789\n",
      "Training job name: randomcutforest-2021-10-22-19-58-48-050\n"
     ]
    }
   ],
   "source": [
    "from sagemaker import RandomCutForest\n",
    "session = sagemaker.Session()\n",
    "\n",
    "\n",
    "rcf = RandomCutForest(\n",
    "    role=execution_role,\n",
    "    instance_count=1,\n",
    "    instance_type=\"ml.m4.xlarge\",\n",
    "    data_location=f\"s3://{bucket}/{prefix}/\",\n",
    "    output_path=f\"s3://{bucket}/{prefix}/output\",\n",
    "    num_samples_per_tree=512,\n",
    "    num_trees=50,\n",
    ")\n",
    "\n",
    "newData=marketing_encoded_data.to_numpy()\n",
    "rcf.fit(rcf.record_set(newData))\n",
    "\n",
    "rcf_inference = rcf.deploy(initial_instance_count=1, instance_type=\"ml.m4.xlarge\")\n",
    "\n",
    "print(f\"Endpoint name: {rcf_inference.endpoint}\")\n",
    "print(f\"Training job name: {rcf.latest_training_job.job_name}\")\n"
   ]
  },
  {
   "cell_type": "markdown",
   "metadata": {},
   "source": [
    "If you see the message\n",
    "\n",
    "> `Training job name: randomcutforest-xxx-xxx-..`\n",
    "\n",
    "at the bottom of the output logs then that means training successfully completed and the output RCF model was stored in the specified output path. You can also view information about and the status of a training job using the AWS SageMaker console. Just click on the \"Jobs\" tab and select training job matching the training job name.\n",
    "\n",
    "You now have a functioning SageMaker RCF inference endpoint. You can confirm the endpoint configuration and status by navigating to the \"Endpoints\" tab in the AWS SageMaker console and selecting the endpoint matching the endpoint name, below: "
   ]
  },
  {
   "cell_type": "markdown",
   "metadata": {},
   "source": [
    "### Data Serialization/Deserialization\n",
    "\n",
    "We can pass data in a variety of formats to our inference endpoint. In this example we will demonstrate passing CSV-formatted data. Other available formats are JSON-formatted and RecordIO Protobuf. We make use of the SageMaker Python SDK utilities `csv_serializer` and `json_deserializer` when configuring the inference endpoint."
   ]
  },
  {
   "cell_type": "code",
   "execution_count": 7,
   "metadata": {},
   "outputs": [],
   "source": [
    "from sagemaker.serializers import CSVSerializer\n",
    "from sagemaker.deserializers import JSONDeserializer\n",
    "\n",
    "rcf_inference.serializer = CSVSerializer()\n",
    "rcf_inference.deserializer = JSONDeserializer()\n"
   ]
  },
  {
   "cell_type": "markdown",
   "metadata": {},
   "source": [
    "Let's pass the training dataset, in CSV format, to the inference endpoint so we can automatically detect the anomalies we saw with our eyes in the plots, above. Note that the serializer and deserializer will automatically take care of the datatype conversion from Numpy NDArrays.\n",
    "\n",
    "For starters, let's only pass in the first six datapoints so we can see what the output looks like.\n"
   ]
  },
  {
   "cell_type": "code",
   "execution_count": 8,
   "metadata": {},
   "outputs": [
    {
     "name": "stdout",
     "output_type": "stream",
     "text": [
      "{'scores': [{'score': 0.8194548904}, {'score': 0.4672802341}, {'score': 0.6835655051}, {'score': 0.7037489429}, {'score': 0.4637495449}, {'score': 0.6890112207}]}\n"
     ]
    }
   ],
   "source": [
    "results = rcf_inference.predict(\n",
    "    newData[:6], initial_args={\"ContentType\": \"text/csv\", \"Accept\": \"application/json\"}\n",
    ")\n",
    "print(results)\n"
   ]
  },
  {
   "cell_type": "markdown",
   "metadata": {},
   "source": [
    "#### At this point, you have successfully trained and created Random Cut Forest on Amazon Sagemeaker.  It is ready to called from Amazon Redshift. \n",
    "Use below create model statement to deploy a machine learning model onto Redshift Cluster.\n",
    "***"
   ]
  },
  {
   "cell_type": "markdown",
   "metadata": {},
   "source": [
    "# Bring Remote Model to Amazon Redshift\n",
    "***"
   ]
  },
  {
   "cell_type": "markdown",
   "metadata": {},
   "source": [
    "## Create BYOM \n",
    "\n",
    "We are going to pass sagemaker endpoint and Redshift IAM Role to Create Model Statement.\n",
    "\n"
   ]
  },
  {
   "cell_type": "code",
   "execution_count": 9,
   "metadata": {},
   "outputs": [
    {
     "name": "stderr",
     "output_type": "stream",
     "text": [
      "The endpoint attribute has been renamed in sagemaker>=2.\n",
      "See: https://sagemaker.readthedocs.io/en/stable/v2.html for details.\n"
     ]
    },
    {
     "name": "stdout",
     "output_type": "stream",
     "text": [
      "randomcutforest-2021-10-22-20-04-00-789\n"
     ]
    }
   ],
   "source": [
    "SAGEMAKER_ENDPOINT = rcf_inference.endpoint\n",
    "print(SAGEMAKER_ENDPOINT)  "
   ]
  },
  {
   "cell_type": "code",
   "execution_count": 10,
   "metadata": {},
   "outputs": [
    {
     "name": "stdout",
     "output_type": "stream",
     "text": [
      "eb62d223-d330-4da7-97b7-d7cd6a8e5266\n"
     ]
    }
   ],
   "source": [
    "sql_text=(\"drop model if exists public.marketing_campaign_anomalies_2;\\\n",
    "CREATE MODEL public.marketing_campaign_anomalies_2\\\n",
    " FUNCTION marketing_campaign_anomalies_function_2 (float\t,float\t,float\t,float\t,float\t,float\t,float\t,float\t,float\t,float\t,float\t,float\t,float\t\\\n",
    "          ,float\t,float\t,float\t,float\t,float\t,float\t,float\t,float\t,float\t,float\t,float\t,float\t,float\t,float\t,float\t,float\t,float\t,float\t, \\\n",
    "float\t,float\t,float\t,float\t,float\t,float\t,float\t,float\t)\\\n",
    " RETURNS decimal(10,6)\\\n",
    " SAGEMAKER'{}'\\\n",
    " IAM_ROLE'{}'\\\n",
    "\")\n",
    "df=run_sql(sql_text.format(SAGEMAKER_ENDPOINT,REDSHIFT_IAM_ROLE))\n",
    "print(df)"
   ]
  },
  {
   "cell_type": "markdown",
   "metadata": {},
   "source": [
    "Lets run show model command to check the status of the model.   Please notice the values set for different keys.  For Example, Model Name, Model State and Function Name. "
   ]
  },
  {
   "cell_type": "code",
   "execution_count": 11,
   "metadata": {},
   "outputs": [
    {
     "data": {
      "text/html": [
       "<div>\n",
       "<style scoped>\n",
       "    .dataframe tbody tr th:only-of-type {\n",
       "        vertical-align: middle;\n",
       "    }\n",
       "\n",
       "    .dataframe tbody tr th {\n",
       "        vertical-align: top;\n",
       "    }\n",
       "\n",
       "    .dataframe thead th {\n",
       "        text-align: right;\n",
       "    }\n",
       "</style>\n",
       "<table border=\"1\" class=\"dataframe\">\n",
       "  <thead>\n",
       "    <tr style=\"text-align: right;\">\n",
       "      <th></th>\n",
       "      <th>Key</th>\n",
       "      <th>Value</th>\n",
       "    </tr>\n",
       "  </thead>\n",
       "  <tbody>\n",
       "    <tr>\n",
       "      <th>0</th>\n",
       "      <td>Model Name</td>\n",
       "      <td>marketing_campaign_anomalies_2</td>\n",
       "    </tr>\n",
       "    <tr>\n",
       "      <th>1</th>\n",
       "      <td>Schema Name</td>\n",
       "      <td>public</td>\n",
       "    </tr>\n",
       "    <tr>\n",
       "      <th>2</th>\n",
       "      <td>Owner</td>\n",
       "      <td>awsuser</td>\n",
       "    </tr>\n",
       "    <tr>\n",
       "      <th>3</th>\n",
       "      <td>Creation Time</td>\n",
       "      <td>Fri, 22.10.2021 20:07:33</td>\n",
       "    </tr>\n",
       "    <tr>\n",
       "      <th>4</th>\n",
       "      <td>Model State</td>\n",
       "      <td>READY</td>\n",
       "    </tr>\n",
       "    <tr>\n",
       "      <th>5</th>\n",
       "      <td></td>\n",
       "      <td></td>\n",
       "    </tr>\n",
       "    <tr>\n",
       "      <th>6</th>\n",
       "      <td>PARAMETERS:</td>\n",
       "      <td></td>\n",
       "    </tr>\n",
       "    <tr>\n",
       "      <th>7</th>\n",
       "      <td>Endpoint</td>\n",
       "      <td>randomcutforest-2021-10-22-20-04-00-789</td>\n",
       "    </tr>\n",
       "    <tr>\n",
       "      <th>8</th>\n",
       "      <td>Function Name</td>\n",
       "      <td>marketing_campaign_anomalies_function_2</td>\n",
       "    </tr>\n",
       "    <tr>\n",
       "      <th>9</th>\n",
       "      <td>Inference Type</td>\n",
       "      <td>Remote</td>\n",
       "    </tr>\n",
       "    <tr>\n",
       "      <th>10</th>\n",
       "      <td>Function Parameter Types</td>\n",
       "      <td>float8 float8 float8 float8 float8 float8 floa...</td>\n",
       "    </tr>\n",
       "    <tr>\n",
       "      <th>11</th>\n",
       "      <td>IAM Role</td>\n",
       "      <td>arn:aws:iam::222252186592:role/mod-4d97d0e707c...</td>\n",
       "    </tr>\n",
       "  </tbody>\n",
       "</table>\n",
       "</div>"
      ],
      "text/plain": [
       "                         Key  \\\n",
       "0                 Model Name   \n",
       "1                Schema Name   \n",
       "2                      Owner   \n",
       "3              Creation Time   \n",
       "4                Model State   \n",
       "5                              \n",
       "6                PARAMETERS:   \n",
       "7                   Endpoint   \n",
       "8              Function Name   \n",
       "9             Inference Type   \n",
       "10  Function Parameter Types   \n",
       "11                  IAM Role   \n",
       "\n",
       "                                                Value  \n",
       "0                      marketing_campaign_anomalies_2  \n",
       "1                                              public  \n",
       "2                                             awsuser  \n",
       "3                            Fri, 22.10.2021 20:07:33  \n",
       "4                                               READY  \n",
       "5                                                      \n",
       "6                                                      \n",
       "7             randomcutforest-2021-10-22-20-04-00-789  \n",
       "8             marketing_campaign_anomalies_function_2  \n",
       "9                                              Remote  \n",
       "10  float8 float8 float8 float8 float8 float8 floa...  \n",
       "11  arn:aws:iam::222252186592:role/mod-4d97d0e707c...  "
      ]
     },
     "execution_count": 11,
     "metadata": {},
     "output_type": "execute_result"
    }
   ],
   "source": [
    "df = run_sql(\"SHOW MODEL public.marketing_campaign_anomalies_2\")\n",
    "df"
   ]
  },
  {
   "cell_type": "markdown",
   "metadata": {},
   "source": [
    "## Inference\n",
    "##### Now you have deployed BYOM remote inference, lets check it works without any errors. "
   ]
  },
  {
   "cell_type": "code",
   "execution_count": 12,
   "metadata": {},
   "outputs": [
    {
     "data": {
      "text/html": [
       "<div>\n",
       "<style scoped>\n",
       "    .dataframe tbody tr th:only-of-type {\n",
       "        vertical-align: middle;\n",
       "    }\n",
       "\n",
       "    .dataframe tbody tr th {\n",
       "        vertical-align: top;\n",
       "    }\n",
       "\n",
       "    .dataframe thead th {\n",
       "        text-align: right;\n",
       "    }\n",
       "</style>\n",
       "<table border=\"1\" class=\"dataframe\">\n",
       "  <thead>\n",
       "    <tr style=\"text-align: right;\">\n",
       "      <th></th>\n",
       "      <th>customerid</th>\n",
       "      <th>score</th>\n",
       "    </tr>\n",
       "  </thead>\n",
       "  <tbody>\n",
       "    <tr>\n",
       "      <th>0</th>\n",
       "      <td>0178-SZBHO</td>\n",
       "      <td>0.815752</td>\n",
       "    </tr>\n",
       "    <tr>\n",
       "      <th>1</th>\n",
       "      <td>0181-RITDD</td>\n",
       "      <td>0.471745</td>\n",
       "    </tr>\n",
       "    <tr>\n",
       "      <th>2</th>\n",
       "      <td>0186-CAERR</td>\n",
       "      <td>0.681663</td>\n",
       "    </tr>\n",
       "    <tr>\n",
       "      <th>3</th>\n",
       "      <td>0187-QSXOE</td>\n",
       "      <td>0.701432</td>\n",
       "    </tr>\n",
       "    <tr>\n",
       "      <th>4</th>\n",
       "      <td>0187-WZNAB</td>\n",
       "      <td>0.462517</td>\n",
       "    </tr>\n",
       "  </tbody>\n",
       "</table>\n",
       "</div>"
      ],
      "text/plain": [
       "   customerid     score\n",
       "0  0178-SZBHO  0.815752\n",
       "1  0181-RITDD  0.471745\n",
       "2  0186-CAERR  0.681663\n",
       "3  0187-QSXOE  0.701432\n",
       "4  0187-WZNAB  0.462517"
      ]
     },
     "execution_count": 12,
     "metadata": {},
     "output_type": "execute_result"
    }
   ],
   "source": [
    "customer_scores = run_sql(\"\"\"\n",
    " SELECT customerid,\n",
    "       Marketing_campaign_anomalies_function_2(\n",
    "       age, balance, day, duration,campaign,days_since_last_contact, previous, job_blue_collor, job_entrepreneur,       job_housemaid, job_management, job_retired, job_self_employed,\n",
    "       job_services,job_student, job_technician, job_unemployed, job_unknown, month_aug,\n",
    "       month_dec,month_feb, month_jan, month_jul, month_jun, month_mar, month_may,month_nov,month_oct, month_sep, marital_married, marital_single,\n",
    "       education_secondary,education_tertiary, education_unknown, default_yes, housing_yes, loan_yes\n",
    "       ,contact_telephone, contact_unknown) AS score\n",
    "FROM   marketing_campaign_encoded_data a\n",
    "LIMIT  5 \n",
    "\"\"\");\n",
    "customer_scores.head(5)"
   ]
  },
  {
   "cell_type": "markdown",
   "metadata": {},
   "source": [
    "# Conclusion\n",
    "\n",
    "---\n",
    "\n",
    "We used Amazon SageMaker Random Cut Forest to detect anomalous datapoints in a marketing campaign dataset. We used Redshift Data API to connect to Amazon Redshift and run SQL commands.  \n",
    "\n",
    "We then used Redshift ML to demonstrate how you can do inference on unsupervised algorithms(such as Random Cut Forest).  This allows you to democratize Machine learning by doing predictions with Redshift SQL Commands.\n",
    "\n"
   ]
  }
 ],
 "metadata": {
  "celltoolbar": "Tags",
  "instance_type": "ml.t3.medium",
  "kernelspec": {
   "display_name": "conda_python3",
   "language": "python",
   "name": "conda_python3"
  },
  "language_info": {
   "codemirror_mode": {
    "name": "ipython",
    "version": 3
   },
   "file_extension": ".py",
   "mimetype": "text/x-python",
   "name": "python",
   "nbconvert_exporter": "python",
   "pygments_lexer": "ipython3",
   "version": "3.6.13"
  },
  "notice": "Copyright 2018 Amazon.com, Inc. or its affiliates. All Rights Reserved.  Licensed under the Apache License, Version 2.0 (the \"License\"). You may not use this file except in compliance with the License. A copy of the License is located at http://aws.amazon.com/apache2.0/ or in the \"license\" file accompanying this file. This file is distributed on an \"AS IS\" BASIS, WITHOUT WARRANTIES OR CONDITIONS OF ANY KIND, either express or implied. See the License for the specific language governing permissions and limitations under the License."
 },
 "nbformat": 4,
 "nbformat_minor": 4
}
